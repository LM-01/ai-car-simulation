{
 "cells": [
  {
   "cell_type": "code",
   "execution_count": 1,
   "metadata": {},
   "outputs": [],
   "source": [
    "import pandas as pd"
   ]
  },
  {
   "cell_type": "code",
   "execution_count": 6,
   "metadata": {},
   "outputs": [],
   "source": [
    "btc = pd.read_csv('btc.csv')\n",
    "eth = pd.read_csv('eth.csv')"
   ]
  },
  {
   "cell_type": "code",
   "execution_count": null,
   "metadata": {},
   "outputs": [],
   "source": []
  },
  {
   "cell_type": "code",
   "execution_count": 39,
   "metadata": {},
   "outputs": [
    {
     "name": "stderr",
     "output_type": "stream",
     "text": [
      "C:\\Users\\molli\\AppData\\Local\\Temp/ipykernel_3260/2875194234.py:1: FutureWarning: In a future version of pandas all arguments of DataFrame.drop except for the argument 'labels' will be keyword-only\n",
      "  data = pd.merge(btc, eth, how='inner', on='snapped_at').drop('snapped_at', 'columns').to_numpy()\n"
     ]
    }
   ],
   "source": [
    "data = pd.merge(btc, eth, how='inner', on='snapped_at').drop('snapped_at', 'columns').to_numpy()"
   ]
  },
  {
   "cell_type": "code",
   "execution_count": 40,
   "metadata": {},
   "outputs": [
    {
     "data": {
      "text/plain": [
       "array([[2.78508814e+02, 4.01565148e+09, 4.76374622e+07, 2.83162000e+00,\n",
       "        0.00000000e+00, 9.06220000e+04],\n",
       "       [2.59800728e+02, 3.74591082e+09, 8.00562170e+07, 1.33075000e+00,\n",
       "        8.03394750e+07, 3.68070000e+05],\n",
       "       [2.63578200e+02, 3.81735035e+09, 6.07832902e+07, 6.87585709e-01,\n",
       "        4.15563092e+07, 4.00464075e+05],\n",
       "       ...,\n",
       "       [1.96592467e+04, 3.76180531e+11, 1.97818263e+10, 1.43874705e+03,\n",
       "        1.73645963e+11, 1.05755049e+10],\n",
       "       [2.03088614e+04, 3.89119405e+11, 2.87063152e+10, 1.55517746e+03,\n",
       "        1.87437854e+11, 1.65286449e+10],\n",
       "       [1.98053507e+04, 3.79555151e+11, 3.03089937e+10, 1.52540012e+03,\n",
       "        1.84447549e+11, 1.97047202e+10]])"
      ]
     },
     "execution_count": 40,
     "metadata": {},
     "output_type": "execute_result"
    }
   ],
   "source": [
    "data"
   ]
  },
  {
   "cell_type": "code",
   "execution_count": null,
   "metadata": {},
   "outputs": [],
   "source": []
  }
 ],
 "metadata": {
  "kernelspec": {
   "display_name": "Python 3.10.0 64-bit",
   "language": "python",
   "name": "python3"
  },
  "language_info": {
   "codemirror_mode": {
    "name": "ipython",
    "version": 3
   },
   "file_extension": ".py",
   "mimetype": "text/x-python",
   "name": "python",
   "nbconvert_exporter": "python",
   "pygments_lexer": "ipython3",
   "version": "3.10.0"
  },
  "orig_nbformat": 4,
  "vscode": {
   "interpreter": {
    "hash": "26de051ba29f2982a8de78e945f0abaf191376122a1563185a90213a26c5da77"
   }
  }
 },
 "nbformat": 4,
 "nbformat_minor": 2
}
